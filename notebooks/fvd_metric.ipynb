{
 "cells": [
  {
   "cell_type": "code",
   "execution_count": 1,
   "metadata": {},
   "outputs": [
    {
     "name": "stdout",
     "output_type": "stream",
     "text": [
      "WARNING:tensorflow:From /ubc/cs/research/fwood/vadmas/miniconda3/envs/ml37/lib/python3.7/site-packages/tensorflow_gan/python/estimator/tpu_gan_estimator.py:42: The name tf.estimator.tpu.TPUEstimator is deprecated. Please use tf.compat.v1.estimator.tpu.TPUEstimator instead.\n",
      "\n"
     ]
    }
   ],
   "source": [
    "from __future__ import absolute_import\n",
    "from __future__ import division\n",
    "from __future__ import print_function\n",
    "\n",
    "import tensorflow.compat.v1 as tf\n",
    "import frechet_video_distance as fvd\n",
    "import numpy as np\n",
    "# Number of videos must be divisible by 16.\n",
    "NUMBER_OF_VIDEOS = 16\n",
    "VIDEO_LENGTH = 15\n"
   ]
  },
  {
   "cell_type": "code",
   "execution_count": 2,
   "metadata": {},
   "outputs": [],
   "source": [
    "vid1 = np.stack([np.load(\"./independent_10_7/sample_0000-0.npy\"),\n",
    "                 np.load(\"./independent_10_7/sample_0000-3.npy\")])\n",
    "vid2 = np.stack([np.load(\"./independent_10_7/sample_0001-0.npy\"),\n",
    "                 np.load(\"./independent_10_7/sample_0002-0.npy\")])\n",
    "\n",
    "\n",
    "# # hack to have number of videos be divisible by 16 \n",
    "vid1 = np.repeat(vid1, 8, 0)\n",
    "vid2 = np.repeat(vid2, 8, 0)\n",
    "\n",
    "# reshape to have channel in last dim\n",
    "vid1 = np.moveaxis(vid1, 2, 4) # B, T, H, W, C\n",
    "vid2 = np.moveaxis(vid2, 2, 4) # B, T, H, W, C"
   ]
  },
  {
   "cell_type": "code",
   "execution_count": 5,
   "metadata": {},
   "outputs": [
    {
     "data": {
      "text/plain": [
       "(16, 300, 64, 64, 3)"
      ]
     },
     "execution_count": 5,
     "metadata": {},
     "output_type": "execute_result"
    }
   ],
   "source": [
    "vid1.shape"
   ]
  },
  {
   "cell_type": "code",
   "execution_count": 12,
   "metadata": {},
   "outputs": [],
   "source": [
    "def compute_FVD_features(vid1, vid2): \n",
    "    # batch has to be == 16 in fvd.create_id3_embedding\n",
    "    assert vid1.shape[0] == 16 \n",
    "    assert vid2.shape[0] == 16\n",
    "\n",
    "    # assert channel is last dimension\n",
    "    # and trust that shape is B, T, H, W, C\n",
    "    assert vid1.shape[4] == 3\n",
    "    assert vid2.shape[4] == 3\n",
    "    \n",
    "    with tf.Graph().as_default():\n",
    "        vid1 = tf.convert_to_tensor(vid1, np.uint8)\n",
    "        vid2 = tf.convert_to_tensor(vid2, np.uint8)\n",
    "        \n",
    "        vid1_feature_vec = fvd.create_id3_embedding(fvd.preprocess(vid1,(224, 224)))\n",
    "        vid2_feature_vec = fvd.create_id3_embedding(fvd.preprocess(vid2,(224, 224)))\n",
    "        \n",
    "        with tf.Session() as sess:\n",
    "            sess.run(tf.global_variables_initializer())\n",
    "            sess.run(tf.tables_initializer())\n",
    "            return sess.run(vid1_feature_vec), sess.run(vid2_feature_vec)\n"
   ]
  },
  {
   "cell_type": "code",
   "execution_count": 13,
   "metadata": {},
   "outputs": [],
   "source": [
    "def compute_FVD(vid1_features, vid2_features): \n",
    "    # no batch limitations here, can pass in entire dataset\n",
    "    with tf.Graph().as_default():\n",
    "        vid1_features = tf.convert_to_tensor(vid1_features, np.float32)\n",
    "        vid2_features = tf.convert_to_tensor(vid2_features, np.float32)\n",
    "        \n",
    "        result = fvd.calculate_fvd(vid1_features, vid2_features)\n",
    "\n",
    "        with tf.Session() as sess:\n",
    "            sess.run(tf.global_variables_initializer())\n",
    "            sess.run(tf.tables_initializer())\n",
    "            return sess.run(result)\n"
   ]
  },
  {
   "cell_type": "code",
   "execution_count": 15,
   "metadata": {
    "scrolled": false
   },
   "outputs": [
    {
     "name": "stderr",
     "output_type": "stream",
     "text": [
      "2022-04-21 16:56:46.905012: W tensorflow/core/common_runtime/graph_constructor.cc:1511] Importing a graph with a lower producer version 26 into an existing graph with producer version 987. Shape inference will have run different parts of the graph with different producer versions.\n"
     ]
    },
    {
     "name": "stdout",
     "output_type": "stream",
     "text": [
      "INFO:tensorflow:Saver not created because there are no variables in the graph to restore\n"
     ]
    },
    {
     "name": "stderr",
     "output_type": "stream",
     "text": [
      "INFO:tensorflow:Saver not created because there are no variables in the graph to restore\n"
     ]
    },
    {
     "name": "stdout",
     "output_type": "stream",
     "text": [
      "INFO:tensorflow:Saver not created because there are no variables in the graph to restore\n"
     ]
    },
    {
     "name": "stderr",
     "output_type": "stream",
     "text": [
      "INFO:tensorflow:Saver not created because there are no variables in the graph to restore\n",
      "2022-04-21 16:56:49.631918: I tensorflow/core/platform/cpu_feature_guard.cc:151] This TensorFlow binary is optimized with oneAPI Deep Neural Network Library (oneDNN) to use the following CPU instructions in performance-critical operations:  AVX2 AVX512F FMA\n",
      "To enable them in other operations, rebuild TensorFlow with the appropriate compiler flags.\n",
      "2022-04-21 16:56:53.861581: W tensorflow/core/framework/cpu_allocator_impl.cc:82] Allocation of 411041792 exceeds 10% of free system memory.\n",
      "2022-04-21 16:57:00.360584: W tensorflow/core/framework/cpu_allocator_impl.cc:82] Allocation of 308281344 exceeds 10% of free system memory.\n",
      "2022-04-21 16:57:08.834691: W tensorflow/core/framework/cpu_allocator_impl.cc:82] Allocation of 192675840 exceeds 10% of free system memory.\n",
      "2022-04-21 16:57:14.900173: W tensorflow/core/framework/cpu_allocator_impl.cc:82] Allocation of 411041792 exceeds 10% of free system memory.\n",
      "2022-04-21 16:57:21.088718: W tensorflow/core/framework/cpu_allocator_impl.cc:82] Allocation of 308281344 exceeds 10% of free system memory.\n"
     ]
    },
    {
     "name": "stdout",
     "output_type": "stream",
     "text": [
      "CPU times: user 1min 21s, sys: 2.45 s, total: 1min 23s\n",
      "Wall time: 47.7 s\n"
     ]
    }
   ],
   "source": [
    "%%time\n",
    "vid1_feature_vec, vid2_feature_vec = compute_FVD_features(vid1[:,:15,:,:,:], vid2[:,:15,:,:,:])"
   ]
  },
  {
   "cell_type": "code",
   "execution_count": 18,
   "metadata": {},
   "outputs": [
    {
     "data": {
      "text/plain": [
       "(16, 400)"
      ]
     },
     "execution_count": 18,
     "metadata": {},
     "output_type": "execute_result"
    }
   ],
   "source": [
    "vid1_feature_vec.shape"
   ]
  },
  {
   "cell_type": "code",
   "execution_count": 19,
   "metadata": {},
   "outputs": [
    {
     "data": {
      "text/plain": [
       "1055.9459"
      ]
     },
     "execution_count": 19,
     "metadata": {},
     "output_type": "execute_result"
    }
   ],
   "source": [
    "result = compute_FVD(vid1_feature_vec, vid2_feature_vec)\n",
    "result"
   ]
  },
  {
   "cell_type": "code",
   "execution_count": null,
   "metadata": {},
   "outputs": [],
   "source": []
  }
 ],
 "metadata": {
  "kernelspec": {
   "display_name": "Python 3 (ipykernel)",
   "language": "python",
   "name": "python3"
  },
  "language_info": {
   "codemirror_mode": {
    "name": "ipython",
    "version": 3
   },
   "file_extension": ".py",
   "mimetype": "text/x-python",
   "name": "python",
   "nbconvert_exporter": "python",
   "pygments_lexer": "ipython3",
   "version": "3.7.13"
  }
 },
 "nbformat": 4,
 "nbformat_minor": 4
}
