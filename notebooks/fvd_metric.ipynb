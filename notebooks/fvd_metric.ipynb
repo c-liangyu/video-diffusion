{
 "cells": [
  {
   "cell_type": "code",
   "execution_count": 17,
   "metadata": {},
   "outputs": [],
   "source": [
    "from __future__ import absolute_import\n",
    "from __future__ import division\n",
    "from __future__ import print_function\n",
    "\n",
    "import tensorflow.compat.v1 as tf\n",
    "import frechet_video_distance as fvd\n",
    "import numpy as np\n",
    "# Number of videos must be divisible by 16.\n",
    "NUMBER_OF_VIDEOS = 16\n",
    "VIDEO_LENGTH = 15\n"
   ]
  },
  {
   "cell_type": "code",
   "execution_count": 18,
   "metadata": {},
   "outputs": [],
   "source": [
    "vid1 = np.stack([np.load(\"./independent_10_7/sample_0000-0.npy\"),\n",
    "                 np.load(\"./independent_10_7/sample_0000-3.npy\")])\n",
    "vid2 = np.stack([np.load(\"./independent_10_7/sample_0001-0.npy\"),\n",
    "                 np.load(\"./independent_10_7/sample_0002-0.npy\")])\n",
    "\n",
    "\n",
    "# hack to have number of videos be divisible by 16 \n",
    "vid1 = np.repeat(vid1, 8, 0)\n",
    "vid2 = np.repeat(vid2, 8, 0)\n",
    "\n",
    "# reshape to have channel in last dim\n",
    "vid1 = np.moveaxis(vid1, 2, 4) # B, T, H, W, C\n",
    "vid2 = np.moveaxis(vid2, 2, 4) # B, T, H, W, C"
   ]
  },
  {
   "cell_type": "code",
   "execution_count": 19,
   "metadata": {},
   "outputs": [],
   "source": [
    "def compute_FVD(vid1, vid2):    \n",
    "    # Batch has to be divisible by 16\n",
    "    assert vid1.shape[0] % 16 == 0 \n",
    "    assert vid2.shape[0] % 16 == 0\n",
    "    \n",
    "    # assert channel is last dimension\n",
    "    # and trust that shape is B, T, H, W, C\n",
    "    assert vid1.shape[4] == 3\n",
    "    assert vid2.shape[4] == 3\n",
    "    \n",
    "    with tf.Graph().as_default():\n",
    "        vid1 = tf.convert_to_tensor(vid1, np.uint8)\n",
    "        vid2 = tf.convert_to_tensor(vid2, np.uint8)\n",
    "        \n",
    "        result = fvd.calculate_fvd(\n",
    "            fvd.create_id3_embedding(fvd.preprocess(vid1,(224, 224))),\n",
    "            fvd.create_id3_embedding(fvd.preprocess(vid2,(224, 224)))\n",
    "        )\n",
    "\n",
    "        with tf.Session() as sess:\n",
    "            sess.run(tf.global_variables_initializer())\n",
    "            sess.run(tf.tables_initializer())\n",
    "            return sess.run(result)\n"
   ]
  },
  {
   "cell_type": "code",
   "execution_count": 20,
   "metadata": {},
   "outputs": [
    {
     "name": "stderr",
     "output_type": "stream",
     "text": [
      "2022-04-20 12:18:04.429786: W tensorflow/core/common_runtime/graph_constructor.cc:1511] Importing a graph with a lower producer version 26 into an existing graph with producer version 987. Shape inference will have run different parts of the graph with different producer versions.\n"
     ]
    },
    {
     "name": "stdout",
     "output_type": "stream",
     "text": [
      "INFO:tensorflow:Saver not created because there are no variables in the graph to restore\n"
     ]
    },
    {
     "name": "stderr",
     "output_type": "stream",
     "text": [
      "INFO:tensorflow:Saver not created because there are no variables in the graph to restore\n"
     ]
    },
    {
     "name": "stdout",
     "output_type": "stream",
     "text": [
      "INFO:tensorflow:Saver not created because there are no variables in the graph to restore\n"
     ]
    },
    {
     "name": "stderr",
     "output_type": "stream",
     "text": [
      "INFO:tensorflow:Saver not created because there are no variables in the graph to restore\n"
     ]
    },
    {
     "name": "stdout",
     "output_type": "stream",
     "text": [
      "CPU times: user 24min 8s, sys: 41.5 s, total: 24min 50s\n",
      "Wall time: 12min 42s\n"
     ]
    }
   ],
   "source": [
    "%%time\n",
    "fvd = compute_FVD(vid1, vid2)"
   ]
  },
  {
   "cell_type": "code",
   "execution_count": 21,
   "metadata": {},
   "outputs": [
    {
     "data": {
      "text/plain": [
       "918.83185"
      ]
     },
     "execution_count": 21,
     "metadata": {},
     "output_type": "execute_result"
    }
   ],
   "source": [
    "fvd"
   ]
  }
 ],
 "metadata": {
  "kernelspec": {
   "display_name": "Python 3 (ipykernel)",
   "language": "python",
   "name": "python3"
  },
  "language_info": {
   "codemirror_mode": {
    "name": "ipython",
    "version": 3
   },
   "file_extension": ".py",
   "mimetype": "text/x-python",
   "name": "python",
   "nbconvert_exporter": "python",
   "pygments_lexer": "ipython3",
   "version": "3.7.13"
  }
 },
 "nbformat": 4,
 "nbformat_minor": 4
}
