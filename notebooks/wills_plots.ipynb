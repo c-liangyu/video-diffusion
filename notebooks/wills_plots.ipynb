{
 "cells": [
  {
   "cell_type": "code",
   "execution_count": 1,
   "metadata": {},
   "outputs": [],
   "source": [
    "import matplotlib.pyplot as plt\n",
    "import pickle\n",
    "from pathlib import Path\n",
    "import numpy as np\n",
    "import os\n",
    "\n",
    "BASE_DIR = '/home/wsgh/research-projects/universal-conditional-ddpm/video-diffusion/'"
   ]
  },
  {
   "cell_type": "code",
   "execution_count": 14,
   "metadata": {},
   "outputs": [],
   "source": [
    "import wandb\n",
    "\n",
    "\n",
    "class IdentityDict(dict):\n",
    "    def __init__(self, d):\n",
    "        for k, v in d.items():\n",
    "            self[k] = v\n",
    "    def __getitem__(self, k):\n",
    "        if k in self:\n",
    "            return super().__getitem__(k)\n",
    "        else:\n",
    "            return k\n",
    "\n",
    "nice_mode_names = IdentityDict({\n",
    "    'autoreg': 'Autoregressive',\n",
    "    'adaptive-autoreg': 'Adaptive autoregressive',\n",
    "    'adaptive-hierarchy-2': 'Adaptive hierarchy-2',\n",
    "    'independent': 'Only original observations',\n",
    "    'mixed-autoreg-independent': 'Mixed',\n",
    "    'hierarchy-2': 'Hierarchy-2',\n",
    "    'hierarchy-3': 'Hierarchy-3',\n",
    "    'hierarchy-4': 'Hierarchy-4',\n",
    "    'hierarchy-5': 'Hierarchy-5',\n",
    "    'really-independent': 'Independent',\n",
    "    'cwvae': 'CWVAE',\n",
    "    'differently-spaced-groups': 'Training distribution',\n",
    "})\n",
    "\n",
    "\n",
    "def parse_run(path):\n",
    "    relative_path = Path(str(path).replace(BASE_DIR, \"\"))\n",
    "    results, *subdirs, wandb_id, ckpt_name, inference_mode, _ = relative_path.parts\n",
    "    assert results == 'results'\n",
    "    mode, max_frames, step_size, T, obs_length = inference_mode.split('_')\n",
    "    max_frames, step_size, T, obs_length = map(eval, [max_frames, step_size, T, obs_length])\n",
    "    mode = nice_mode_names[mode]\n",
    "    return dict(subdirs=subdirs, wandb_id=wandb_id, ckpt_name=ckpt_name,\n",
    "                mode=mode, max_frames=max_frames, step_size=step_size, T=T, obs_length=obs_length)\n",
    "\n",
    "def pad_to_len(s, l):\n",
    "    return s + ' '*max(0, l-len(s))\n",
    "\n",
    "def directory(path):\n",
    "    return path if path.is_dir() else path.parent\n",
    "\n",
    "def first_n(array, n):\n",
    "    assert len(array) >= n\n",
    "    return array[:n]\n",
    "\n",
    "def format_mean_std(mean, std, n=None):\n",
    "    s = f\"{mean:.2f} +- {std:.3f}\"\n",
    "    if n is not None:\n",
    "        s += f\" ({n} seeds)\"\n",
    "    return s\n",
    "\n",
    "\n",
    "class DB:\n",
    "    def __init__(self, data=[]):\n",
    "        if len(data) == 0:\n",
    "            self.data = []\n",
    "            for path in self.get_dirs():\n",
    "                self.add_from_path(path)\n",
    "        else:\n",
    "            self.data = data\n",
    "            \n",
    "    def add_from_path(self, path):\n",
    "        self.data.append({\"path\": path, \"config\": parse_run(path), **self.get_data(path)})\n",
    "\n",
    "    def __len__(self):\n",
    "        return len(self.data)\n",
    "\n",
    "    def __getitem__(self, idx):\n",
    "        return self.data[idx]\n",
    "\n",
    "    def __iter__(self):\n",
    "        return iter(self.data)\n",
    "\n",
    "    def query(self, **kwargs):\n",
    "        return ExpDB([x for x in self.data if all([x[\"config\"][k] == v for (k,v) in kwargs.items()])])\n",
    "\n",
    "    def sort(self, keys):\n",
    "        if isinstance(keys, str):\n",
    "            self.sort([keys])\n",
    "        self.data.sort(key=lambda x: [x[\"config\"][k] for k in keys])\n",
    "        \n",
    "    def get_sorted(self, keys):\n",
    "        if isinstance(keys, str):\n",
    "            return self.get_sorted([keys])\n",
    "        return ExpDB(data=sorted(self.data, key=lambda x: [x[\"config\"][k] for k in keys]))\n",
    "\n",
    "    def print_config(self):\n",
    "        for x in self.data:\n",
    "            print(x[\"config\"])\n",
    "            \n",
    "    def get_data(self, path):\n",
    "        raise NotImplementedError\n",
    "\n",
    "\n",
    "class ElboDB(DB):\n",
    "    \n",
    "    def get_dirs(self):\n",
    "        paths = Path(BASE_DIR).glob('results/**/elbos/')\n",
    "        return [p for p in paths]\n",
    "    \n",
    "    def get_data(self, path):\n",
    "        i = 0\n",
    "        while os.path.exists(path / f\"elbo_{i}.pkl\"):\n",
    "            data_i = pickle.load(open(path / f\"elbo_{i}.pkl\", 'rb'))\n",
    "            if i == 0:\n",
    "                data = {k: [] for k in data_i}\n",
    "            for k in data:\n",
    "                data[k].append(data_i[k])\n",
    "            i += 1\n",
    "        if i == 0:\n",
    "            print('WARNING: failed', str(path))\n",
    "            raise Exception\n",
    "        return {'data': {k: np.stack(v, axis=0) for k, v in data.items()}}\n",
    "\n",
    "\n",
    "class MetricDB(DB):\n",
    "\n",
    "    def get_dirs(self):\n",
    "        paths = Path(BASE_DIR).glob('results/**/metrics_*.pkl')  \n",
    "        return [p for p in paths]\n",
    "\n",
    "    def get_data(self, path):\n",
    "        fname = path.parts[-1]\n",
    "        n_videos, n_samples, video_length = fname.split('_')[1].split('.')[0].split('-')\n",
    "        return {'data': pickle.load(open(path, \"rb\")), 'n_videos': n_videos,\n",
    "                'n_samples': n_samples, 'video_length': video_length}"
   ]
  },
  {
   "cell_type": "code",
   "execution_count": 15,
   "metadata": {},
   "outputs": [],
   "source": [
    "elbo_db = ElboDB()\n",
    "metric_db = MetricDB()"
   ]
  },
  {
   "cell_type": "markdown",
   "metadata": {},
   "source": [
    "# Ablations on RPE net:"
   ]
  },
  {
   "cell_type": "code",
   "execution_count": 4,
   "metadata": {},
   "outputs": [],
   "source": [
    "class IDHasRPENet(dict):\n",
    "    def __init__(self):\n",
    "        self.api = wandb.Api()\n",
    "        \n",
    "    def __getitem__(self, id):\n",
    "        if id in self:\n",
    "            return super().__getitem__(id)\n",
    "        else:\n",
    "            self[id] = self.api.run(f\"universal-conditional-ddpm/video-diffusion/{id}\").config['use_rpe_net']\n",
    "            return self[id]\n",
    "id_to_rpe_net = IDHasRPENet()"
   ]
  },
  {
   "cell_type": "markdown",
   "metadata": {},
   "source": [
    "### MineRL"
   ]
  },
  {
   "cell_type": "code",
   "execution_count": 5,
   "metadata": {},
   "outputs": [
    {
     "name": "stdout",
     "output_type": "stream",
     "text": [
      "\n",
      "ELBOs\n",
      "\n",
      "With RPE net\n",
      "24.82 +- 8.946 (3 seeds)\n",
      "Without RPE net\n",
      "19.06 +- 0.776 (3 seeds)\n"
     ]
    }
   ],
   "source": [
    "minerl_ablation_elbo_db = [i for i in elbo_db if 'minerl-rpe-net-ablation' in i['config']['subdirs']]\n",
    "mazes_ablation_elbo_db = [i for i in elbo_db if 'mazes-rpe-net-ablation' in i['config']['subdirs']]\n",
    "\n",
    "def get_elbo_mean_std(db, has_rpe_net, metric='total_bpd'):\n",
    "    relevant_data = []\n",
    "    for run in db:\n",
    "        if id_to_rpe_net[run['config']['wandb_id']] == has_rpe_net:\n",
    "            data = first_n(run['data'][metric], n=100).sum(axis=1).mean(axis=0)\n",
    "            relevant_data.append(data)\n",
    "    relevant_data = np.array(relevant_data)\n",
    "    assert relevant_data.ndim == 1\n",
    "    return relevant_data.mean(), relevant_data.std(), len(relevant_data)\n",
    "\n",
    "minerl_training_elbo_db = [i for i in minerl_ablation_elbo_db if i['config']['mode'] == 'Training distribution']\n",
    "print('\\nELBOs\\n')\n",
    "print('With RPE net')\n",
    "print(format_mean_std(*get_elbo_mean_std(minerl_training_elbo_db, has_rpe_net=True)))\n",
    "print('Without RPE net')\n",
    "print(format_mean_std(*get_elbo_mean_std(minerl_training_elbo_db, has_rpe_net=False)))"
   ]
  },
  {
   "cell_type": "code",
   "execution_count": 7,
   "metadata": {},
   "outputs": [],
   "source": [
    "# minerl_ablation_with_rpe_net_db = [run for run in minerl_ablation_metric_db if id_to_rpe_net[run['config']['wandb_id']]]\n",
    "# minerl_ablation_without_rpe_net_db = [run for run in minerl_ablation_metric_db if not id_to_rpe_net[run['config']['wandb_id']]]\n",
    "\n",
    "# def get_fvd(db):\n",
    "#     relevant_data = []\n",
    "#     for run in db:\n",
    "#         data = run['data']['fvd'].mean()\n",
    "#         relevant_data.append(data)\n",
    "#     relevant_data = np.array(relevant_data)\n",
    "#     assert relevant_data.ndim == 1\n",
    "#     return relevant_data.mean(), relevant_data.std(), len(relevant_data)\n",
    "        \n",
    "\n",
    "# print('\\nFVDs\\n')\n",
    "# print('With RPE net')\n",
    "# print(format_mean_std(*get_fvd(minerl_ablation_with_rpe_net_db)))\n",
    "# print('Without RPE net')\n",
    "# print(format_mean_std(*get_fvd(minerl_ablation_without_rpe_net_db)))"
   ]
  },
  {
   "cell_type": "markdown",
   "metadata": {},
   "source": [
    "## NLLS for pairs of far-apart frames (TODO make with new checkpoints)"
   ]
  },
  {
   "cell_type": "code",
   "execution_count": 26,
   "metadata": {},
   "outputs": [
    {
     "name": "stderr",
     "output_type": "stream",
     "text": [
      "<ipython-input-26-09e9ca68cbb8>:15: RuntimeWarning: Mean of empty slice.\n",
      "  ax.errorbar(np.array(x)+1, y=values.mean(), yerr=values.std(), color=color, label=label, fmt='o')\n",
      "/home/wsgh/envs/jupyter/lib/python3.8/site-packages/numpy/core/_methods.py:170: RuntimeWarning: invalid value encountered in double_scalars\n",
      "  ret = ret.dtype.type(ret / rcount)\n",
      "/home/wsgh/envs/jupyter/lib/python3.8/site-packages/numpy/core/_methods.py:233: RuntimeWarning: Degrees of freedom <= 0 for slice\n",
      "  ret = _var(a, axis=axis, dtype=dtype, out=out, ddof=ddof,\n",
      "/home/wsgh/envs/jupyter/lib/python3.8/site-packages/numpy/core/_methods.py:194: RuntimeWarning: invalid value encountered in true_divide\n",
      "  arrmean = um.true_divide(\n",
      "/home/wsgh/envs/jupyter/lib/python3.8/site-packages/numpy/core/_methods.py:226: RuntimeWarning: invalid value encountered in double_scalars\n",
      "  ret = ret.dtype.type(ret / rcount)\n",
      "/home/wsgh/envs/jupyter/lib/python3.8/site-packages/numpy/core/_asarray.py:83: UserWarning: Warning: converting a masked element to nan.\n",
      "  return array(a, dtype, copy=False, order=order)\n"
     ]
    },
    {
     "data": {
      "image/png": "[encoded data removed]",
      "text/plain": [
       "<Figure size 432x288 with 2 Axes>"
      ]
     },
     "metadata": {
      "needs_background": "light"
     },
     "output_type": "display_data"
    }
   ],
   "source": [
    "# minerl_ablation_linspace_elbo_db = [i for i in minerl_ablation_elbo_db if 'linspace' in i['config']['mode']]\n",
    "\n",
    "\n",
    "def get_spacing_i_db(db, i, independent, with_rpe_net):\n",
    "    mask_name = f\"linspace-no-obs-0-{i}-2\"\n",
    "    if independent:\n",
    "        mask_name = 'independent-'+mask_name\n",
    "    return [run for run in db if run['config']['mode'] == mask_name if id_to_rpe_net[run['config']['wandb_id']] == with_rpe_net]\n",
    "\n",
    "def plot(ax, x, runs, color, label, diff_to=None):\n",
    "    values = np.array([first_n(run['data']['total_bpd'], 100).sum(axis=1).mean(axis=0) for run in runs])\n",
    "    if diff_to is not None:\n",
    "        diff_to_values = np.array([first_n(run['data']['total_bpd'], 100).sum(axis=1).mean(axis=0) for run in diff_to])\n",
    "        values = diff_to_values - values\n",
    "    ax.errorbar(np.array(x)+1, y=values.mean(), yerr=values.std(), color=color, label=label, fmt='o')\n",
    "    \n",
    "\n",
    "fig, axes = plt.subplots(ncols=2)\n",
    "for ax, db in zip(axes, [minerl_ablation_elbo_db, mazes_ablation_elbo_db]):\n",
    "    xs = [1, 19, 49, 99, 149, 199, 249, 299, 349, 399, 449, 499]  # 149, 249\n",
    "    for x in xs:\n",
    "        with_runs = get_spacing_i_db(db, x, independent=False, with_rpe_net=True)\n",
    "        without_runs = get_spacing_i_db(db, x, independent=False, with_rpe_net=False)\n",
    "        plot(ax, x, with_runs, color='b', label='With RPE network' if x==xs[0] else None)\n",
    "        plot(ax, x, without_runs, color='r', label='Without RPE network' if x==xs[0] else None)\n",
    "\n",
    "    ax.set_xlabel('Index of second frame')\n",
    "    ax.set_ylabel('NLL per pixel')\n",
    "#    ax.legend()\n",
    "fig.savefig('figs/rpe-net-effect-vs-distance.pdf', bbox_inches='tight')"
   ]
  },
  {
   "cell_type": "markdown",
   "metadata": {},
   "source": [
    "## Test NLLs for various different inference modes "
   ]
  },
  {
   "cell_type": "code",
   "execution_count": 205,
   "metadata": {},
   "outputs": [],
   "source": [
    "minerl_inf_mode_db = [i for i in metric_db if 'minerl-final-850k' in i['config']['subdirs']]\n",
    "minerl_inf_mode_elbo_db = [i for i in elbo_db if 'minerl-final-850k' in i['config']['subdirs']]\n",
    "\n",
    "mazes_inf_mode_db = [i for i in metric_db if 'mazes-final-950k' in i['config']['subdirs']]\n",
    "mazes_inf_mode_elbo_db = [i for i in elbo_db if 'mazes-final-950k' in i['config']['subdirs']]"
   ]
  },
  {
   "cell_type": "code",
   "execution_count": 206,
   "metadata": {},
   "outputs": [],
   "source": [
    "# for metric in ['mse', 'total_bpd']:\n",
    "#     print('\\nMetric:', metric)\n",
    "#     to_show = {}\n",
    "#     for run in minerl_inf_mode_db:\n",
    "#         metrics = run['data']\n",
    "#         path = run['path']\n",
    "#         try:\n",
    "#             elbo = first_n(metrics[metric], 100).sum(axis=1).mean(axis=0)  # TODO 100\n",
    "#         except:\n",
    "#             print('failed', path)\n",
    "#         inf_mode = run['config']['mode']\n",
    "#         to_show[f\"{elbo:.2f} - {inf_mode}\"] = elbo\n",
    "\n",
    "#     for label, elbo in sorted(to_show.items(), key=lambda x: x[1]):\n",
    "#         print(label)"
   ]
  },
  {
   "cell_type": "markdown",
   "metadata": {},
   "source": [
    "## And test FVDs for the same runs"
   ]
  },
  {
   "cell_type": "code",
   "execution_count": 207,
   "metadata": {
    "scrolled": true
   },
   "outputs": [
    {
     "name": "stdout",
     "output_type": "stream",
     "text": [
      "Mazes\n",
      "53.11 +- 1.063 (5 seeds) - Hierarchy-2\n",
      "53.70 +- 1.886 (5 seeds) - Hierarchy-3\n",
      "54.97 +- 1.426 (5 seeds) - Adaptive hierarchy-2\n",
      "64.49 +- 1.948 (5 seeds) - Mixed\n",
      "86.44 +- 2.589 (5 seeds) - Autoregressive\n",
      "MineRL\n",
      "267.03 +- 4.026 (5 seeds) - Mixed\n",
      "274.89 +- 7.660 (5 seeds) - Hierarchy-2\n",
      "280.89 +- 10.174 (5 seeds) - Autoregressive\n",
      "311.39 +- 6.826 (5 seeds) - Hierarchy-3\n",
      "315.77 +- 8.899 (5 seeds) - Adaptive hierarchy-2\n"
     ]
    }
   ],
   "source": [
    "def print_mode_fvds(db):\n",
    "    to_show = {}\n",
    "    for run in db:\n",
    "        metrics = run['data']['fvd']\n",
    "        inf_mode = run['config']['mode']\n",
    "        string = f\"{format_mean_std(metrics.mean(), metrics.std()/np.sqrt(len(metrics)-1), len(metrics))} - {inf_mode}\"\n",
    "        to_show[string] = metrics.mean()\n",
    "    for label, elbo in sorted(to_show.items(), key=lambda x: x[1]):\n",
    "        print(label)\n",
    "        \n",
    "print('Mazes')\n",
    "print_mode_fvds(mazes_inf_mode_db)\n",
    "\n",
    "        \n",
    "print('MineRL')\n",
    "print_mode_fvds(minerl_inf_mode_db)"
   ]
  },
  {
   "cell_type": "code",
   "execution_count": 139,
   "metadata": {},
   "outputs": [
    {
     "name": "stdout",
     "output_type": "stream",
     "text": [
      "53.1134393 2.1268894114470154\n",
      "86.43622779199998 5.1780422507487955\n"
     ]
    }
   ],
   "source": [
    "from numpy import array\n",
    "\n",
    "a = array([54.80147818, 51.68201544, 56.26377283, 50.41206905, 52.407861  ])\n",
    "print(a.mean(), a.std())\n",
    "\n",
    "a = array([78.40920528, 91.71340571, 92.43377901, 84.29541665, 85.32933231])\n",
    "print(a.mean(), a.std())"
   ]
  },
  {
   "cell_type": "markdown",
   "metadata": {},
   "source": [
    "## And LPIPS vs distance for the same runs"
   ]
  },
  {
   "cell_type": "code",
   "execution_count": 140,
   "metadata": {},
   "outputs": [],
   "source": [
    "_default_label_func = lambda x: f\"{x['path'].parent.name}/{x['path'].stem}\"\n",
    "\n",
    "\n",
    "from scipy import stats\n",
    "def smooth(x, std):\n",
    "    # smooth a 1-D numpy array x\n",
    "    gaussian_filter = stats.norm(0., 5.).pdf(np.arange(-5*std, 5*std))\n",
    "    unnormed = np.convolve(x, gaussian_filter, 'same')\n",
    "    norm_const = np.convolve(np.ones_like(x), gaussian_filter, 'same')\n",
    "    return unnormed / norm_const\n",
    "\n",
    "\n",
    "def do_plot(db, ax, mode, errorbar=True,\n",
    "            label_func=_default_label_func,\n",
    "            agg_mode=\"best\",\n",
    "            baseline_metrics=None, set_color=None,\n",
    "            smooth_std=None, verbose=True):\n",
    "    \n",
    "    def agg_predictions(metric, agg_mode):\n",
    "        assert agg_mode in [\"best\", \"best_avg\", \"mean\", \"random\"]\n",
    "        best_fn = {\"ssim\": \"max\", \"psnr\": \"max\", \"lpips\": \"min\"}[mode]\n",
    "\n",
    "        if agg_mode == \"best\":\n",
    "            metric = getattr(metric[:, :2], best_fn)(axis=1)\n",
    "        elif agg_mode == \"best_avg\":\n",
    "            # Finding the order within samples wrt avg metric across time.\n",
    "            order_metric = np.argsort(np.mean(metric, -1), axis=-1)\n",
    "            assert best_fn in [\"max\", \"min\"]\n",
    "            if best_fn == \"max\":\n",
    "                metric = np.stack([metric[i, order[-1]] for (i, order) in enumerate(order_metric)])\n",
    "            else:\n",
    "                metric = np.stack([metric[i, order[0]] for (i, order) in enumerate(order_metric)])\n",
    "        elif agg_mode == \"random\":\n",
    "            metric = metric[:, 0, :]\n",
    "        elif agg_mode == \"mean\":\n",
    "            metric = metric.mean(axis=1)\n",
    "        else:\n",
    "            raise ValueError(f\"Unknown aggregation mode {agg_mode}\")\n",
    "        return metric\n",
    "    \n",
    "    labels_seen = set()\n",
    "    assert mode in [\"ssim\", \"psnr\", \"lpips\"]\n",
    "    if label_func is None:\n",
    "        label_func = lambda x: None\n",
    "    for exp_data in db:\n",
    "        path = str(exp_data[\"path\"])\n",
    "        metrics = exp_data[\"metrics\"]\n",
    "        if mode not in metrics:\n",
    "            if verbose:\n",
    "                print(f\"Metrics {mode} not found in {path}\")\n",
    "            continue\n",
    "        metric = agg_predictions(metrics[mode], agg_mode)\n",
    "\n",
    "        mean = metric.mean(axis=0)\n",
    "        if smooth_std is not None:\n",
    "            mean = smooth(mean, smooth_std)\n",
    "        std = metric.std(axis=0)\n",
    "        label = None\n",
    "        ls = '-'\n",
    "        label = label_func(exp_data)\n",
    "        \n",
    "        color = set_color(path) if set_color is not None else None\n",
    "\n",
    "        ax.plot(mean, label=None if label in labels_seen else label, color=color, ls=ls)\n",
    "        labels_seen.add(label)\n",
    "        if errorbar:\n",
    "            ax.fill_between(range(len(mean)), mean - std, mean + std, alpha=0.1)\n",
    "    ax.grid(\"on\")"
   ]
  },
  {
   "cell_type": "code",
   "execution_count": 141,
   "metadata": {},
   "outputs": [
    {
     "ename": "NameError",
     "evalue": "name 'metrics_db' is not defined",
     "output_type": "error",
     "traceback": [
      "\u001b[0;31m--------------------------------------------------------------------------\u001b[0m",
      "\u001b[0;31mNameError\u001b[0m                                Traceback (most recent call last)",
      "\u001b[0;32m<ipython-input-141-9b407ff5fe61>\u001b[0m in \u001b[0;36m<module>\u001b[0;34m\u001b[0m\n\u001b[1;32m     15\u001b[0m     \u001b[0;32mreturn\u001b[0m \u001b[0mnice_mode_names\u001b[0m\u001b[0;34m[\u001b[0m\u001b[0mPath\u001b[0m\u001b[0;34m(\u001b[0m\u001b[0mdirectory\u001b[0m\u001b[0;34m(\u001b[0m\u001b[0mpath\u001b[0m\u001b[0;34m)\u001b[0m\u001b[0;34m)\u001b[0m\u001b[0;34m.\u001b[0m\u001b[0mparts\u001b[0m\u001b[0;34m[\u001b[0m\u001b[0;34m-\u001b[0m\u001b[0;36m1\u001b[0m\u001b[0;34m]\u001b[0m\u001b[0;34m.\u001b[0m\u001b[0msplit\u001b[0m\u001b[0;34m(\u001b[0m\u001b[0;34m'_'\u001b[0m\u001b[0;34m)\u001b[0m\u001b[0;34m[\u001b[0m\u001b[0;36m0\u001b[0m\u001b[0;34m]\u001b[0m\u001b[0;34m]\u001b[0m\u001b[0;34m\u001b[0m\u001b[0;34m\u001b[0m\u001b[0m\n\u001b[1;32m     16\u001b[0m \u001b[0mfig\u001b[0m\u001b[0;34m,\u001b[0m \u001b[0max\u001b[0m \u001b[0;34m=\u001b[0m \u001b[0mplt\u001b[0m\u001b[0;34m.\u001b[0m\u001b[0msubplots\u001b[0m\u001b[0;34m(\u001b[0m\u001b[0mfigsize\u001b[0m\u001b[0;34m=\u001b[0m\u001b[0;34m(\u001b[0m\u001b[0;36m5\u001b[0m\u001b[0;34m,\u001b[0m \u001b[0;36m5\u001b[0m\u001b[0;34m)\u001b[0m\u001b[0;34m)\u001b[0m\u001b[0;34m\u001b[0m\u001b[0;34m\u001b[0m\u001b[0m\n\u001b[0;32m---> 17\u001b[0;31m do_plot(metrics_db, ax, mode='lpips', errorbar=False, set_color=set_color,\n\u001b[0m\u001b[1;32m     18\u001b[0m        label_func=lpips_label_func, verbose=False, smooth_std=5)\n\u001b[1;32m     19\u001b[0m \u001b[0max\u001b[0m\u001b[0;34m.\u001b[0m\u001b[0mset_xlabel\u001b[0m\u001b[0;34m(\u001b[0m\u001b[0;34m'Distance from originally observed frames'\u001b[0m\u001b[0;34m)\u001b[0m\u001b[0;34m\u001b[0m\u001b[0;34m\u001b[0m\u001b[0m\n",
      "\u001b[0;31mNameError\u001b[0m: name 'metrics_db' is not defined"
     ]
    },
    {
     "data": {
      "image/png": "[encoded data removed]",
      "text/plain": [
       "<Figure size 360x360 with 1 Axes>"
      ]
     },
     "metadata": {
      "needs_background": "light"
     },
     "output_type": "display_data"
    }
   ],
   "source": [
    "def set_color(path):\n",
    "    if 'mixed' in path:\n",
    "        return 'r'\n",
    "    elif 'autoreg' in path:\n",
    "        return 'b'\n",
    "    elif 'really-independent' in path:\n",
    "        return 'k'\n",
    "    elif 'independent' in path:\n",
    "        return 'g'\n",
    "    elif 'cwvae' in path:\n",
    "        return 'y'\n",
    "def lpips_label_func(run):\n",
    "    path = run['path']\n",
    "    id = directory(path).parts[-2]\n",
    "    return nice_mode_names[Path(directory(path)).parts[-1].split('_')[0]]\n",
    "fig, ax = plt.subplots(figsize=(5, 5))\n",
    "do_plot(metrics_db, ax, mode='lpips', errorbar=False, set_color=set_color,\n",
    "       label_func=lpips_label_func, verbose=False, smooth_std=5)\n",
    "ax.set_xlabel('Distance from originally observed frames')\n",
    "ax.set_ylabel('Minimum LPIPS distance from ground truth (2 samples)')\n",
    "ax.legend()"
   ]
  },
  {
   "cell_type": "markdown",
   "metadata": {},
   "source": [
    "## FVD for various inference modes"
   ]
  },
  {
   "cell_type": "code",
   "execution_count": null,
   "metadata": {
    "scrolled": false
   },
   "outputs": [],
   "source": [
    "#fvds_runs = [(run['metrics']['fvd'].mean(), run) for run in inf_modes_db if 'fvd' in run['metrics'] and run['config']['T_pred']==300]\n",
    "#fvds_runs = sorted(fvds_runs, key=lambda x: x[0])\n",
    "#for fvd, run in fvds_runs:\n",
    "#    fvd_str = f\"{fvd:.2f} +- {run['metrics']['fvd'].std():.1f} ({run['metrics']['fvd'].shape[0]} seeds)\"\n",
    "#    id = run['path'].parts[-3]\n",
    "#    print(f\"{pad_to_len(fvd_str, 14)} - {pad_to_len(label_func(run), 40)} Trained with {run_names[id]}\")"
   ]
  },
  {
   "cell_type": "markdown",
   "metadata": {},
   "source": [
    "## FVD for ablations"
   ]
  },
  {
   "cell_type": "code",
   "execution_count": null,
   "metadata": {},
   "outputs": [],
   "source": [
    "# fvds_runs = [(run['metrics']['fvd'].mean(), run) for run in ablations_db if 'fvd' in run['metrics'] and run['config']['T_pred']==300]\n",
    "# fvds_runs = sorted(fvds_runs, key=lambda x: x[0])\n",
    "# for fvd, run in fvds_runs:\n",
    "#     fvd_str = f\"{fvd:.2f} +- {run['metrics']['fvd'].std():.1f} ({run['metrics']['fvd'].shape[0]} seeds)\"\n",
    "#     id = run['path'].parts[-3]\n",
    "#     print(f\"{pad_to_len(fvd_str, 14)} - {pad_to_len(label_func(run), 30)} Trained with {run_names[id]}\")"
   ]
  },
  {
   "cell_type": "code",
   "execution_count": null,
   "metadata": {},
   "outputs": [],
   "source": [
    "mixed_db = [thing for thing in metrics_db if 'mixed' in str(thing['path'])]\n",
    "autoreg_db = [thing for thing in metrics_db if 'autoreg_' in str(thing['path']) and 'mixed' not in str(thing['path'])]\n",
    "independent_db = [thing for thing in metrics_db if 'independent_' in str(thing['path']) and 'mixed' not in str(thing['path'])]"
   ]
  },
  {
   "cell_type": "markdown",
   "metadata": {},
   "source": [
    "## Autoreg"
   ]
  },
  {
   "cell_type": "code",
   "execution_count": null,
   "metadata": {},
   "outputs": [],
   "source": [
    "fig, ax = plt.subplots(figsize=(10, 10))\n",
    "do_plot(autoreg_db, ax, mode='lpips', errorbar=False, set_color=None)\n",
    "ax.legend()"
   ]
  },
  {
   "cell_type": "markdown",
   "metadata": {},
   "source": [
    "## Mixed"
   ]
  },
  {
   "cell_type": "code",
   "execution_count": null,
   "metadata": {},
   "outputs": [],
   "source": [
    "fig, ax = plt.subplots(figsize=(10, 10))\n",
    "do_plot(mixed_db, ax, mode='lpips', errorbar=False, set_color=None)\n",
    "ax.legend()"
   ]
  },
  {
   "cell_type": "markdown",
   "metadata": {},
   "source": [
    "## Independent"
   ]
  },
  {
   "cell_type": "code",
   "execution_count": null,
   "metadata": {},
   "outputs": [],
   "source": [
    "fig, ax = plt.subplots(figsize=(10, 10))\n",
    "do_plot(independent_db, ax, mode='lpips', errorbar=False, set_color=None)\n",
    "ax.legend()"
   ]
  },
  {
   "cell_type": "code",
   "execution_count": null,
   "metadata": {},
   "outputs": [],
   "source": []
  }
 ],
 "metadata": {
  "kernelspec": {
   "display_name": "Python 3",
   "language": "python",
   "name": "python3"
  },
  "language_info": {
   "codemirror_mode": {
    "name": "ipython",
    "version": 3
   },
   "file_extension": ".py",
   "mimetype": "text/x-python",
   "name": "python",
   "nbconvert_exporter": "python",
   "pygments_lexer": "ipython3",
   "version": "3.8.10"
  }
 },
 "nbformat": 4,
 "nbformat_minor": 5
}
