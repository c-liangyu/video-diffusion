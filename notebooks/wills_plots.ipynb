{
 "cells": [
  {
   "cell_type": "code",
   "execution_count": 1,
   "metadata": {},
   "outputs": [],
   "source": [
    "import matplotlib.pyplot as plt\n",
    "import pickle\n",
    "from pathlib import Path\n",
    "import numpy as np\n",
    "import os\n",
    "\n",
    "# os.chdir(\"..\")"
   ]
  },
  {
   "cell_type": "code",
   "execution_count": 2,
   "metadata": {},
   "outputs": [],
   "source": [
    "import wandb\n",
    "\n",
    "class WandbRunNames(dict):\n",
    "    def __init__(self):\n",
    "        self.api = wandb.Api()\n",
    "        self['cwvae'] = 'cwvae'\n",
    "        \n",
    "    def __getitem__(self, id):\n",
    "        if id in self:\n",
    "            return super().__getitem__(id)\n",
    "        else:\n",
    "            name = self.api.run(f\"universal-conditional-ddpm/video-diffusion/{id}\").name\n",
    "            self[id] = name\n",
    "            return name\n",
    "\n",
    "run_names = WandbRunNames()\n",
    "\n",
    "nice_mode_names = {\n",
    "    'autoreg': 'Autoregressive',\n",
    "    'independent': 'Only original observations',\n",
    "    'mixed-autoreg-independent': 'Mixed',\n",
    "    'hierarchy-2': 'Hierarchy-2',\n",
    "    'hierarchy-3': 'Hierarchy-3',\n",
    "    'hierarchy-4': 'Hierarchy-4',\n",
    "    'hierarchy-5': 'Hierarchy-5',\n",
    "    'really-independent': 'Independent',\n",
    "    'cwvae': 'CWVAE',\n",
    "}\n",
    "\n",
    "def pad_to_len(s, l):\n",
    "    return s + ' '*max(0, l-len(s))\n",
    "\n",
    "def directory(path):\n",
    "    return path if path.is_dir() else path.parent\n",
    "\n",
    "class ExpInfo:\n",
    "    def __init__(self):\n",
    "        pass\n",
    "    \n",
    "class ExpDB:\n",
    "    globber = \"**/new_metrics_*.pkl\"\n",
    "    def __init__(self, data=[], dir_path=None):\n",
    "        assert data == [] or dir_path is None\n",
    "        if dir_path is not None:\n",
    "            self.data = []\n",
    "            for path in Path(dir_path).glob(self.globber):\n",
    "                self.add_from_path(path)\n",
    "        else:\n",
    "            self.data = data\n",
    "    \n",
    "    def add_from_path(self, path):\n",
    "        name = path.stem\n",
    "        mode, max_len, pred_size, T, obs_length = path.parent.name.split(\"_\")\n",
    "        test_set_size, n_samples, T_pred = name.split(\"_\")[-1].split(\"-\")\n",
    "        max_len, pred_size, test_set_size, n_samples, T_pred = map(int, [max_len, pred_size, test_set_size, n_samples, T_pred])\n",
    "        config = dict(mode=mode, max_len=max_len, pred_size=pred_size,\n",
    "                      test_set_size=test_set_size, n_samples=n_samples,\n",
    "                      T_pred=T_pred, T=T, obs_length=obs_length)\n",
    "        metrics = pickle.load(open(path, \"rb\"))\n",
    "        self.data.append({\"path\": path,\n",
    "                          \"config\": config,\n",
    "                          \"metrics\": metrics})\n",
    "\n",
    "    def __len__(self):\n",
    "        return len(self.data)\n",
    "\n",
    "    def __getitem__(self, idx):\n",
    "        return self.data[idx]\n",
    "\n",
    "    def __iter__(self):\n",
    "        return iter(self.data)\n",
    "\n",
    "    def query(self, **kwargs):\n",
    "        return ExpDB([x for x in self.data if all([x[\"config\"][k] == v for (k,v) in kwargs.items()])])\n",
    "\n",
    "    def sort(self, keys):\n",
    "        if isinstance(keys, str):\n",
    "            self.sort([keys])\n",
    "        self.data.sort(key=lambda x: [x[\"config\"][k] for k in keys])\n",
    "        \n",
    "    def get_sorted(self, keys):\n",
    "        if isinstance(keys, str):\n",
    "            return self.get_sorted([keys])\n",
    "        return ExpDB(data=sorted(self.data, key=lambda x: [x[\"config\"][k] for k in keys]))\n",
    "        \n",
    "    def print_config(self):\n",
    "        for x in self.data:\n",
    "            print(x[\"config\"])\n",
    "            \n",
    "\n",
    "class ElboDB(ExpDB):\n",
    "    globber = \"**/elbo_*.pkl\"\n",
    "    def __init__(self, data=[], dir_path=None):\n",
    "        assert data == [] or dir_path is None\n",
    "        if dir_path is not None:\n",
    "            self.data = []\n",
    "            for path in set(path.parent for path in Path(dir_path).glob(self.globber)):\n",
    "                self.add_from_path(path)\n",
    "        else:\n",
    "            self.data = data\n",
    "\n",
    "    def add_from_path(self, path):\n",
    "        i = 0\n",
    "        data = None\n",
    "        while os.path.exists(path / f\"elbo_{i}.pkl\"):\n",
    "            data_i = pickle.load(open(path / f\"elbo_{i}.pkl\", 'rb'))\n",
    "            if i == 0:\n",
    "                data = {k: [] for k in data_i}\n",
    "            for k in data:\n",
    "                data[k].append(data_i[k])\n",
    "            i += 1\n",
    "        data = {k: np.stack(v, axis=0) for k, v in data.items()}\n",
    "        self.data.append({\"path\": path,\n",
    "                          \"config\": None,\n",
    "                          \"metrics\": data})\n",
    "\n",
    "# databases with FVDs/LPIPS\n",
    "metrics_db = ExpDB(dir_path='/home/wsgh/research-projects/universal-conditional-ddpm/video-diffusion/samples/second-batch-400k-iters/')\n",
    "inf_modes_db = [run for run in metrics_db if '3kdr4q5k' in str(run['path'])]\n",
    "ablations_db = [run for run in metrics_db if 'hierarchy-2' in str(run['path'])]"
   ]
  },
  {
   "cell_type": "markdown",
   "metadata": {},
   "source": [
    "## Test NLLs for varying max_frames"
   ]
  },
  {
   "cell_type": "code",
   "execution_count": 64,
   "metadata": {
    "scrolled": false
   },
   "outputs": [
    {
     "name": "stdout",
     "output_type": "stream",
     "text": [
      "340.13 - ours on MineRL (with hierarchy-2, max 80 frames)\n",
      "341.24 - ours on MineRL (with hierarchy-2, max 40 frames)\n",
      "343.52 - ours on MineRL (with hierarchy-2, max 20 frames)\n",
      "543.53 - ours on MineRL (generated at once)\n",
      "543.64 - full video on MineRL (generated at once)\n",
      "\n",
      "337.85 - ours on Mazes (with hierarchy-2, max 80 frames)\n",
      "338.98 - ours on Mazes (with hierarchy-2, max 40 frames)\n",
      "341.23 - ours on Mazes (with hierarchy-2, max 20 frames)\n",
      "539.39 - ours on Mazes (generated at once)\n",
      "539.57 - full video on Mazes (generated at once)\n"
     ]
    }
   ],
   "source": [
    "T160_db = ElboDB(dir_path='/home/wsgh/research-projects/universal-conditional-ddpm/video-diffusion/samples/T160-200k-iters/')\n",
    "\n",
    "def first_n(array, n):\n",
    "    assert len(array) >= n\n",
    "    return array[:n]\n",
    "\n",
    "def max_frames_label_func(path):\n",
    "    path = Path(directory(path))\n",
    "    modes = {\n",
    "        '12b3f0tz': ('Mazes', 'full video'),\n",
    "        '3d4unb1k': ('Mazes', 'ours'),\n",
    "        '34crrvr8': ('MineRL', 'full video'),\n",
    "        '30v09jjq': ('MineRL', 'ours'),}\n",
    "    sample_settings = path.parts[-1]\n",
    "    sample_mode, max_frames, *_ = sample_settings.split('_')\n",
    "    id = path.parts[-2]\n",
    "    dataset, method = modes[id]\n",
    "    label = f\"{method} on {dataset}\"\n",
    "    if int(max_frames) == 160:\n",
    "        label += \" (generated at once)\"\n",
    "    else:\n",
    "        label = label + f\" (with {sample_mode}, max {max_frames} frames)\"\n",
    "    return label\n",
    "\n",
    "to_show = {}\n",
    "for run in T160_db:\n",
    "    elbo = first_n(run['metrics']['total_bpd'], 100).sum(axis=1).mean(axis=0)\n",
    "    label = max_frames_label_func(run['path'])\n",
    "    to_show[label] = elbo\n",
    "\n",
    "def print_things(dataset):\n",
    "    for k, v in sorted(to_show.items(), key=lambda x: x[1]):\n",
    "        if dataset in k:\n",
    "            print(f\"{v:.2f} - {k}\")\n",
    "            \n",
    "print_things('MineRL')\n",
    "print()\n",
    "print_things('Mazes')"
   ]
  },
  {
   "cell_type": "markdown",
   "metadata": {},
   "source": [
    "## Test FVDs for varying max_frames"
   ]
  },
  {
   "cell_type": "code",
   "execution_count": 65,
   "metadata": {},
   "outputs": [
    {
     "name": "stdout",
     "output_type": "stream",
     "text": [
      "1104.28 +- 6.9 (3 seeds) - ours on Mazes (with hierarchy-2, max 20 frames)\n",
      "1110.86 +- 6.9 (3 seeds) - ours on Mazes (generated at once)       \n",
      "1120.50 +- 13.0 (3 seeds) - ours on Mazes (with hierarchy-2, max 80 frames)\n",
      "1125.51 +- 2.8 (3 seeds) - ours on Mazes (with hierarchy-2, max 40 frames)\n",
      "1230.05 +- 9.2 (3 seeds) - full video on Mazes (generated at once) \n",
      "1995.82 +- 9.3 (3 seeds) - ours on MineRL (with hierarchy-2, max 20 frames)\n"
     ]
    }
   ],
   "source": [
    "T160_sample_db = ExpDB(dir_path='/home/wsgh/research-projects/universal-conditional-ddpm/video-diffusion/samples/T160-200k-iters/')\n",
    "\n",
    "# TODO compute FVDs and LPIPs scores for this\n",
    "fvds_runs = [(run['metrics']['fvd'].mean(), run) for run in T160_sample_db if 'fvd' in run['metrics']]\n",
    "fvds_runs = sorted(fvds_runs, key=lambda x: x[0])\n",
    "for fvd, run in fvds_runs:\n",
    "    fvd_str = f\"{fvd:.2f} +- {run['metrics']['fvd'].std():.1f} ({run['metrics']['fvd'].shape[0]} seeds)\"\n",
    "    id = run['path'].parts[-3]\n",
    "    \n",
    "    print(f\"{pad_to_len(fvd_str, 14)} - {pad_to_len(max_frames_label_func(run['path']), 40)}\")"
   ]
  },
  {
   "cell_type": "markdown",
   "metadata": {},
   "source": [
    "## Test NLLs for some ablations (all trained for 400k iterations on Mazes with T=300 and computed on masks sampled from our training distribution)"
   ]
  },
  {
   "cell_type": "code",
   "execution_count": 66,
   "metadata": {},
   "outputs": [
    {
     "name": "stdout",
     "output_type": "stream",
     "text": [
      "26.05 - No padding with random frames\n",
      "26.02 - With global frame encoding\n",
      "26.00 - Ours\n"
     ]
    }
   ],
   "source": [
    "main_db = ElboDB(dir_path='/home/wsgh/research-projects/universal-conditional-ddpm/video-diffusion/samples/second-batch-400k-iters/')\n",
    "\n",
    "def ablation_label_func(path):\n",
    "    modes = {\n",
    "        '3kdr4q5k': 'Ours',\n",
    "        '3kd38zvf': 'No padding with random frames',\n",
    "        '8aj6rgym': 'With global frame encoding',\n",
    "        }\n",
    "    id = directory(path).parts[-2]\n",
    "    return modes[id]\n",
    "\n",
    "ablations = [run for run in main_db if 'differently-spaced-groups' in str(run['path'])]\n",
    "for run in ablations:\n",
    "    elbo = first_n(run['metrics']['total_bpd'], 100).sum(axis=1).mean(axis=0)\n",
    "    print(f\"{elbo:.2f} - {ablation_label_func(run['path'])}\")"
   ]
  },
  {
   "cell_type": "markdown",
   "metadata": {},
   "source": [
    "## And FVDs for the same ablations"
   ]
  },
  {
   "cell_type": "code",
   "execution_count": 67,
   "metadata": {},
   "outputs": [
    {
     "name": "stdout",
     "output_type": "stream",
     "text": [
      "53.05 +- 1.5 (3 seeds) - No padding with random frames  Trained with ablation without random frame padding\n",
      "58.92 +- 7.3 (3 seeds) - Ours                           Trained with proper mazes\n",
      "59.02 +- 1.4 (3 seeds) - With global frame encoding     Trained with ablation with global frame encoding\n"
     ]
    }
   ],
   "source": [
    "fvds_runs = [(run['metrics']['fvd'].mean(), run) for run in ablations_db if 'fvd' in run['metrics'] and run['config']['T_pred']==300]\n",
    "fvds_runs = sorted(fvds_runs, key=lambda x: x[0])\n",
    "for fvd, run in fvds_runs:\n",
    "    fvd_str = f\"{fvd:.2f} +- {run['metrics']['fvd'].std():.1f} ({run['metrics']['fvd'].shape[0]} seeds)\"\n",
    "    id = run['path'].parts[-3]\n",
    "    print(f\"{pad_to_len(fvd_str, 14)} - {pad_to_len(ablation_label_func(run['path']), 30)} Trained with {run_names[id]}\")"
   ]
  },
  {
   "cell_type": "markdown",
   "metadata": {},
   "source": [
    "# Stuff for RPE net ablation (https://wandb.ai/universal-conditional-ddpm/video-diffusion/sweeps/zrexk7n3)"
   ]
  },
  {
   "cell_type": "markdown",
   "metadata": {},
   "source": [
    "## NLLs on training mask distribution"
   ]
  },
  {
   "cell_type": "code",
   "execution_count": 74,
   "metadata": {},
   "outputs": [
    {
     "name": "stdout",
     "output_type": "stream",
     "text": [
      "With RPE\n",
      "24.482132\n",
      "24.476505\n",
      "Without RPE\n",
      "24.48713\n",
      "24.478382\n",
      "24.487183\n"
     ]
    }
   ],
   "source": [
    "with_rpe_db =  ElboDB(dir_path='/home/wsgh/research-projects/universal-conditional-ddpm/video-diffusion/samples/with-rpe-net-differently-spaced-groups/')\n",
    "without_rpe_db =  ElboDB(dir_path='/home/wsgh/research-projects/universal-conditional-ddpm/video-diffusion/samples/without-rpe-net-differently-spaced-groups/')\n",
    "\n",
    "\n",
    "print('With RPE')\n",
    "for run in with_rpe_db:\n",
    "    if directory(run['path']).parts[-1].split('_')[0] == 'differently-spaced-groups':\n",
    "        elbo = first_n(run['metrics']['total_bpd'], 32).sum(axis=1).mean(axis=0)\n",
    "        print(elbo)\n",
    "\n",
    "print('Without RPE')\n",
    "for run in without_rpe_db:\n",
    "    if directory(run['path']).parts[-1].split('_')[0] == 'differently-spaced-groups':\n",
    "        elbo = first_n(run['metrics']['total_bpd'], 32).sum(axis=1).mean(axis=0)\n",
    "        print(elbo)"
   ]
  },
  {
   "cell_type": "markdown",
   "metadata": {},
   "source": [
    "## NLLS for pairs of far-apart frames"
   ]
  },
  {
   "cell_type": "code",
   "execution_count": 83,
   "metadata": {},
   "outputs": [
    {
     "data": {
      "text/plain": [
       "<matplotlib.legend.Legend at 0x7f3564ea9730>"
      ]
     },
     "execution_count": 83,
     "metadata": {},
     "output_type": "execute_result"
    },
    {
     "data": {
      "image/png": "[encoded data removed]",
      "text/plain": [
       "<Figure size 432x288 with 1 Axes>"
      ]
     },
     "metadata": {
      "needs_background": "light"
     },
     "output_type": "display_data"
    }
   ],
   "source": [
    "def get_spacing_i_db(original_db, i, independent):\n",
    "    mask_name = f\"linspace-no-obs-0-{i}-2\"\n",
    "    if independent:\n",
    "        mask_name = 'independent-'+mask_name\n",
    "    return [run for run in original_db if directory(run['path']).parts[-1].split('_')[0] == mask_name]\n",
    "\n",
    "def plot(ax, x, runs, color, label, diff_to=None):\n",
    "    values = np.array([first_n(run['metrics']['total_bpd'], 100).sum(axis=1).mean(axis=0) for run in runs])\n",
    "    diff_to_values = np.array([first_n(run['metrics']['total_bpd'], 100).sum(axis=1).mean(axis=0) for run in diff_to])\n",
    "    ax.errorbar(x, y=diff_to_values.mean()-values.mean(), yerr=values.std(), color=color, label=label, fmt='o')\n",
    "    \n",
    "\n",
    "fig, ax = plt.subplots()\n",
    "xs = [1, 10, 50, 75, 100, 125, 150, 200, 225, 250, 275, 299]\n",
    "for x in xs:\n",
    "    with_runs = get_spacing_i_db(with_rpe_db, x, independent=False)\n",
    "    without_runs = get_spacing_i_db(without_rpe_db, x, independent=False)\n",
    "    independent_runs = get_spacing_i_db(without_rpe_db, x, independent=True)\n",
    "    plot(ax, x, with_runs, color='b', label='With RPE' if x==xs[0] else None, diff_to=independent_runs)\n",
    "    plot(ax, x, without_runs, color='r', label='Without RPE' if x==xs[0] else None, diff_to=independent_runs)\n",
    "#     plot(ax, x, independent_runs, color='g', label='Independent' if x==xs[0] else None)\n",
    "\n",
    "ax.set_xlabel('Distance between frames')\n",
    "ax.set_ylabel('NLL per pixel (decrease from independent frame model)')\n",
    "ax.set_ylim(0)\n",
    "ax.legend()"
   ]
  },
  {
   "cell_type": "markdown",
   "metadata": {},
   "source": [
    "## Test NLLs for various different inference modes (all from same network trained for 400k iterations on Mazes with T=300)"
   ]
  },
  {
   "cell_type": "code",
   "execution_count": 9,
   "metadata": {},
   "outputs": [
    {
     "name": "stdout",
     "output_type": "stream",
     "text": [
      "failed /home/wsgh/research-projects/universal-conditional-ddpm/video-diffusion/samples/second-batch-400k-iters/3kdr4q5k/independent_20_10_300_36\n",
      "\n",
      "24.49 - Only original observations\n",
      "338.46 - Hierarchy-4\n",
      "346.58 - Hierarchy-3\n",
      "347.49 - Mixed\n",
      "347.52 - Autoregressive\n",
      "347.52 - Hierarchy-2\n",
      "693.14 - Independent\n"
     ]
    }
   ],
   "source": [
    "inf_modes = [run for run in main_db if 'differently-spaced-groups' not in str(run['path'])]\n",
    "\n",
    "def inf_mode_label_func(path):\n",
    "    id = directory(path).parts[-2]\n",
    "    assert id == '3kdr4q5k'\n",
    "    return nice_mode_names[Path(directory(path)).parts[-1].split('_')[0]]\n",
    "\n",
    "\n",
    "to_show = {}\n",
    "for run in inf_modes:\n",
    "    metrics = run['metrics']\n",
    "    path = run['path']\n",
    "    try:\n",
    "        elbo = first_n(metrics['total_bpd'], 100).sum(axis=1).mean(axis=0)  # TODO 100\n",
    "    except:\n",
    "        print('failed', path)\n",
    "    to_show[f\"{elbo:.2f} - {inf_mode_label_func(run['path'])}\"] = elbo\n",
    "\n",
    "print()\n",
    "for label, elbo in sorted(to_show.items(), key=lambda x: x[1]):\n",
    "    print(label)"
   ]
  },
  {
   "cell_type": "markdown",
   "metadata": {},
   "source": [
    "## And test FVDs for the same runs"
   ]
  },
  {
   "cell_type": "code",
   "execution_count": 10,
   "metadata": {},
   "outputs": [
    {
     "name": "stdout",
     "output_type": "stream",
     "text": [
      "58.61 +- 1.3 (3 seeds) - Hierarchy-3                             \n",
      "58.92 +- 7.3 (3 seeds) - Hierarchy-2                             \n",
      "59.36 +- 2.8 (3 seeds) - Hierarchy-4                             \n",
      "62.39 +- 3.9 (3 seeds) - Mixed                                   \n",
      "97.37 +- 2.9 (3 seeds) - Autoregressive                          \n",
      "99.22 +- 2.2 (3 seeds) - Only original observations              \n",
      "176.49 +- 2.7 (3 seeds) - Independent                             \n"
     ]
    }
   ],
   "source": [
    "fvds_runs = [(run['metrics']['fvd'].mean(), run) for run in inf_modes_db if 'fvd' in run['metrics'] and run['config']['T_pred']==300]\n",
    "fvds_runs = sorted(fvds_runs, key=lambda x: x[0])\n",
    "for fvd, run in fvds_runs:\n",
    "    fvd_str = f\"{fvd:.2f} +- {run['metrics']['fvd'].std():.1f} ({run['metrics']['fvd'].shape[0]} seeds)\"\n",
    "    id = run['path'].parts[-3]\n",
    "    print(f\"{pad_to_len(fvd_str, 14)} - {pad_to_len(inf_mode_label_func(run['path']), 40)}\") #\" Trained with {run_names[id]}\")"
   ]
  },
  {
   "cell_type": "code",
   "execution_count": 16,
   "metadata": {},
   "outputs": [],
   "source": [
    "_default_label_func = lambda x: f\"{x['path'].parent.name}/{x['path'].stem}\"\n",
    "\n",
    "\n",
    "def do_plot(db, ax, mode, errorbar=True,\n",
    "            label_func=_default_label_func,\n",
    "            agg_mode=\"best\",\n",
    "            baseline_metrics=None, set_color=None,\n",
    "            verbose=True):\n",
    "    \n",
    "    def agg_predictions(metric, agg_mode):\n",
    "        assert agg_mode in [\"best\", \"best_avg\", \"mean\", \"random\"]\n",
    "        best_fn = {\"ssim\": \"max\", \"psnr\": \"max\", \"lpips\": \"min\"}[mode]\n",
    "\n",
    "        if agg_mode == \"best\":\n",
    "            metric = getattr(metric[:, :2], best_fn)(axis=1)\n",
    "        elif agg_mode == \"best_avg\":\n",
    "            # Finding the order within samples wrt avg metric across time.\n",
    "            order_metric = np.argsort(np.mean(metric, -1), axis=-1)\n",
    "            assert best_fn in [\"max\", \"min\"]\n",
    "            if best_fn == \"max\":\n",
    "                metric = np.stack([metric[i, order[-1]] for (i, order) in enumerate(order_metric)])\n",
    "            else:\n",
    "                metric = np.stack([metric[i, order[0]] for (i, order) in enumerate(order_metric)])\n",
    "        elif agg_mode == \"random\":\n",
    "            metric = metric[:, 0, :]\n",
    "        elif agg_mode == \"mean\":\n",
    "            metric = metric.mean(axis=1)\n",
    "        else:\n",
    "            raise ValueError(f\"Unknown aggregation mode {agg_mode}\")\n",
    "        return metric\n",
    "    \n",
    "    labels_seen = set()\n",
    "    assert mode in [\"ssim\", \"psnr\", \"lpips\"]\n",
    "    if label_func is None:\n",
    "        label_func = lambda x: None\n",
    "    for exp_data in db:\n",
    "        path = str(exp_data[\"path\"])\n",
    "        metrics = exp_data[\"metrics\"]\n",
    "        if mode not in metrics:\n",
    "            if verbose:\n",
    "                print(f\"Metrics {mode} not found in {path}\")\n",
    "            continue\n",
    "        metric = agg_predictions(metrics[mode], agg_mode)\n",
    "\n",
    "        mean = metric.mean(axis=0)\n",
    "        std = metric.std(axis=0)\n",
    "        label = None\n",
    "        ls = '-'\n",
    "        label = label_func(exp_data)\n",
    "        \n",
    "        color = set_color(path) if set_color is not None else None\n",
    "\n",
    "        ax.plot(mean, label=None if label in labels_seen else label, color=color, ls=ls)\n",
    "        labels_seen.add(label)\n",
    "        if errorbar:\n",
    "            ax.fill_between(range(len(mean)), mean - std, mean + std, alpha=0.1)\n",
    "    ax.grid(\"on\")"
   ]
  },
  {
   "cell_type": "code",
   "execution_count": 19,
   "metadata": {},
   "outputs": [
    {
     "data": {
      "text/plain": [
       "<matplotlib.legend.Legend at 0x7f3567023dc0>"
      ]
     },
     "execution_count": 19,
     "metadata": {},
     "output_type": "execute_result"
    },
    {
     "data": {
      "image/png": "[encoded data removed]",
      "text/plain": [
       "<Figure size 360x360 with 1 Axes>"
      ]
     },
     "metadata": {
      "needs_background": "light"
     },
     "output_type": "display_data"
    }
   ],
   "source": [
    "def set_color(path):\n",
    "    if 'mixed' in path:\n",
    "        return 'r'\n",
    "    elif 'autoreg' in path:\n",
    "        return 'b'\n",
    "    elif 'really-independent' in path:\n",
    "        return 'k'\n",
    "    elif 'independent' in path:\n",
    "        return 'g'\n",
    "    elif 'cwvae' in path:\n",
    "        return 'y'\n",
    "def lpips_label_func(run):\n",
    "    path = run['path']\n",
    "    id = directory(path).parts[-2]\n",
    "    return nice_mode_names[Path(directory(path)).parts[-1].split('_')[0]]\n",
    "fig, ax = plt.subplots(figsize=(5, 5))\n",
    "do_plot(metrics_db, ax, mode='lpips', errorbar=False, set_color=set_color,\n",
    "       label_func=lpips_label_func, verbose=False)\n",
    "ax.set_xlabel('Distance from originally observed frames')\n",
    "ax.set_ylabel('Minimum LPIPS distance from ground truth (2 samples)')\n",
    "ax.legend()"
   ]
  },
  {
   "cell_type": "markdown",
   "metadata": {},
   "source": [
    "## FVD for various inference modes"
   ]
  },
  {
   "cell_type": "code",
   "execution_count": null,
   "metadata": {
    "scrolled": false
   },
   "outputs": [],
   "source": [
    "#fvds_runs = [(run['metrics']['fvd'].mean(), run) for run in inf_modes_db if 'fvd' in run['metrics'] and run['config']['T_pred']==300]\n",
    "#fvds_runs = sorted(fvds_runs, key=lambda x: x[0])\n",
    "#for fvd, run in fvds_runs:\n",
    "#    fvd_str = f\"{fvd:.2f} +- {run['metrics']['fvd'].std():.1f} ({run['metrics']['fvd'].shape[0]} seeds)\"\n",
    "#    id = run['path'].parts[-3]\n",
    "#    print(f\"{pad_to_len(fvd_str, 14)} - {pad_to_len(label_func(run), 40)} Trained with {run_names[id]}\")"
   ]
  },
  {
   "cell_type": "markdown",
   "metadata": {},
   "source": [
    "## FVD for ablations"
   ]
  },
  {
   "cell_type": "code",
   "execution_count": null,
   "metadata": {},
   "outputs": [],
   "source": [
    "# fvds_runs = [(run['metrics']['fvd'].mean(), run) for run in ablations_db if 'fvd' in run['metrics'] and run['config']['T_pred']==300]\n",
    "# fvds_runs = sorted(fvds_runs, key=lambda x: x[0])\n",
    "# for fvd, run in fvds_runs:\n",
    "#     fvd_str = f\"{fvd:.2f} +- {run['metrics']['fvd'].std():.1f} ({run['metrics']['fvd'].shape[0]} seeds)\"\n",
    "#     id = run['path'].parts[-3]\n",
    "#     print(f\"{pad_to_len(fvd_str, 14)} - {pad_to_len(label_func(run), 30)} Trained with {run_names[id]}\")"
   ]
  },
  {
   "cell_type": "code",
   "execution_count": null,
   "metadata": {},
   "outputs": [],
   "source": [
    "mixed_db = [thing for thing in metrics_db if 'mixed' in str(thing['path'])]\n",
    "autoreg_db = [thing for thing in metrics_db if 'autoreg_' in str(thing['path']) and 'mixed' not in str(thing['path'])]\n",
    "independent_db = [thing for thing in metrics_db if 'independent_' in str(thing['path']) and 'mixed' not in str(thing['path'])]"
   ]
  },
  {
   "cell_type": "markdown",
   "metadata": {},
   "source": [
    "## Autoreg"
   ]
  },
  {
   "cell_type": "code",
   "execution_count": null,
   "metadata": {},
   "outputs": [],
   "source": [
    "fig, ax = plt.subplots(figsize=(10, 10))\n",
    "do_plot(autoreg_db, ax, mode='lpips', errorbar=False, set_color=None)\n",
    "ax.legend()"
   ]
  },
  {
   "cell_type": "markdown",
   "metadata": {},
   "source": [
    "## Mixed"
   ]
  },
  {
   "cell_type": "code",
   "execution_count": null,
   "metadata": {},
   "outputs": [],
   "source": [
    "fig, ax = plt.subplots(figsize=(10, 10))\n",
    "do_plot(mixed_db, ax, mode='lpips', errorbar=False, set_color=None)\n",
    "ax.legend()"
   ]
  },
  {
   "cell_type": "markdown",
   "metadata": {},
   "source": [
    "## Independent"
   ]
  },
  {
   "cell_type": "code",
   "execution_count": null,
   "metadata": {},
   "outputs": [],
   "source": [
    "fig, ax = plt.subplots(figsize=(10, 10))\n",
    "do_plot(independent_db, ax, mode='lpips', errorbar=False, set_color=None)\n",
    "ax.legend()"
   ]
  },
  {
   "cell_type": "code",
   "execution_count": null,
   "metadata": {},
   "outputs": [],
   "source": []
  }
 ],
 "metadata": {
  "kernelspec": {
   "display_name": "Python 3",
   "language": "python",
   "name": "python3"
  },
  "language_info": {
   "codemirror_mode": {
    "name": "ipython",
    "version": 3
   },
   "file_extension": ".py",
   "mimetype": "text/x-python",
   "name": "python",
   "nbconvert_exporter": "python",
   "pygments_lexer": "ipython3",
   "version": "3.8.10"
  }
 },
 "nbformat": 4,
 "nbformat_minor": 5
}
